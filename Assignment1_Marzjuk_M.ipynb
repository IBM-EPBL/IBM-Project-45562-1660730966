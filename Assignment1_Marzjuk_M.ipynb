{
 "cells": [
  {
   "cell_type": "markdown",
   "id": "9cb863dc",
   "metadata": {},
   "source": [
    "# #string slicing"
   ]
  },
  {
   "cell_type": "code",
   "execution_count": 4,
   "id": "a388f9ad",
   "metadata": {},
   "outputs": [],
   "source": [
    "st=\"hello all, welcome to training program 123456789\""
   ]
  },
  {
   "cell_type": "code",
   "execution_count": 5,
   "id": "2098635e",
   "metadata": {},
   "outputs": [
    {
     "data": {
      "text/plain": [
       "str"
      ]
     },
     "execution_count": 5,
     "metadata": {},
     "output_type": "execute_result"
    }
   ],
   "source": [
    "type(st)"
   ]
  },
  {
   "cell_type": "code",
   "execution_count": 6,
   "id": "1e0d0230",
   "metadata": {},
   "outputs": [
    {
     "data": {
      "text/plain": [
       "'hello all, welcome'"
      ]
     },
     "execution_count": 6,
     "metadata": {},
     "output_type": "execute_result"
    }
   ],
   "source": [
    "st[0:18]"
   ]
  },
  {
   "cell_type": "code",
   "execution_count": 7,
   "id": "3a42c95f",
   "metadata": {},
   "outputs": [
    {
     "data": {
      "text/plain": [
       "'welcome to traini'"
      ]
     },
     "execution_count": 7,
     "metadata": {},
     "output_type": "execute_result"
    }
   ],
   "source": [
    "st[11:28]"
   ]
  },
  {
   "cell_type": "code",
   "execution_count": 8,
   "id": "10d87c29",
   "metadata": {},
   "outputs": [
    {
     "data": {
      "text/plain": [
       "'program 123456789'"
      ]
     },
     "execution_count": 8,
     "metadata": {},
     "output_type": "execute_result"
    }
   ],
   "source": [
    "st[31:49]"
   ]
  },
  {
   "cell_type": "markdown",
   "id": "de33acab",
   "metadata": {},
   "source": [
    "#dir which grabs all the functions available in the datatype"
   ]
  },
  {
   "cell_type": "code",
   "execution_count": 9,
   "id": "4a6245a9",
   "metadata": {},
   "outputs": [
    {
     "data": {
      "text/plain": [
       "'Hello all, welcome to training program 123456789'"
      ]
     },
     "execution_count": 9,
     "metadata": {},
     "output_type": "execute_result"
    }
   ],
   "source": [
    "#variablename.functionname(parameters)\n",
    "st.capitalize()#used to capitalise the first letter in the string"
   ]
  },
  {
   "cell_type": "code",
   "execution_count": 10,
   "id": "e8e6feec",
   "metadata": {},
   "outputs": [
    {
     "data": {
      "text/plain": [
       "3"
      ]
     },
     "execution_count": 10,
     "metadata": {},
     "output_type": "execute_result"
    }
   ],
   "source": [
    "st.count(\"e\")#count the occurence of the element"
   ]
  },
  {
   "cell_type": "code",
   "execution_count": 11,
   "id": "64eb7b86",
   "metadata": {},
   "outputs": [
    {
     "data": {
      "text/plain": [
       "['hello', 'all,', 'welcome', 'to', 'training', 'program', '123456789']"
      ]
     },
     "execution_count": 11,
     "metadata": {},
     "output_type": "execute_result"
    }
   ],
   "source": [
    "st.split()#this split the string at spaces and creates a list"
   ]
  },
  {
   "cell_type": "code",
   "execution_count": 13,
   "id": "e422291b",
   "metadata": {},
   "outputs": [
    {
     "data": {
      "text/plain": [
       "['h', 'llo all, w', 'lcom', ' to training program 123456789']"
      ]
     },
     "execution_count": 13,
     "metadata": {},
     "output_type": "execute_result"
    }
   ],
   "source": [
    "st.split(\"e\")#split spaces and the letter 'e' "
   ]
  },
  {
   "cell_type": "code",
   "execution_count": 14,
   "id": "691c961c",
   "metadata": {},
   "outputs": [],
   "source": [
    "l=[\"apple\",123,55.6,\"mystery\",\"moon\"]"
   ]
  },
  {
   "cell_type": "code",
   "execution_count": 15,
   "id": "e76806c3",
   "metadata": {},
   "outputs": [
    {
     "data": {
      "text/plain": [
       "123"
      ]
     },
     "execution_count": 15,
     "metadata": {},
     "output_type": "execute_result"
    }
   ],
   "source": [
    "l[1]"
   ]
  },
  {
   "cell_type": "code",
   "execution_count": 16,
   "id": "68ff4b13",
   "metadata": {},
   "outputs": [
    {
     "data": {
      "text/plain": [
       "'apple'"
      ]
     },
     "execution_count": 16,
     "metadata": {},
     "output_type": "execute_result"
    }
   ],
   "source": [
    "l[0]"
   ]
  },
  {
   "cell_type": "code",
   "execution_count": 17,
   "id": "3f02fcd5",
   "metadata": {},
   "outputs": [
    {
     "data": {
      "text/plain": [
       "[123, 55.6]"
      ]
     },
     "execution_count": 17,
     "metadata": {},
     "output_type": "execute_result"
    }
   ],
   "source": [
    "l[1:3]"
   ]
  },
  {
   "cell_type": "code",
   "execution_count": 19,
   "id": "87b1cf4e",
   "metadata": {},
   "outputs": [
    {
     "data": {
      "text/plain": [
       "[123, 55.6, 'mystery', 'moon']"
      ]
     },
     "execution_count": 19,
     "metadata": {},
     "output_type": "execute_result"
    }
   ],
   "source": [
    "l[1:]#start slicing"
   ]
  },
  {
   "cell_type": "code",
   "execution_count": 20,
   "id": "ba658acb",
   "metadata": {},
   "outputs": [
    {
     "data": {
      "text/plain": [
       "['apple', 123, 55.6]"
      ]
     },
     "execution_count": 20,
     "metadata": {},
     "output_type": "execute_result"
    }
   ],
   "source": [
    "l[:3]"
   ]
  },
  {
   "cell_type": "code",
   "execution_count": 21,
   "id": "084f2930",
   "metadata": {},
   "outputs": [
    {
     "data": {
      "text/plain": [
       "['apple', 123, 55.6, 'mystery', 'moon']"
      ]
     },
     "execution_count": 21,
     "metadata": {},
     "output_type": "execute_result"
    }
   ],
   "source": [
    "l"
   ]
  },
  {
   "cell_type": "code",
   "execution_count": 22,
   "id": "c157a271",
   "metadata": {},
   "outputs": [],
   "source": [
    "#append used to  apppend data on to the list at the last position\n",
    "#variablename.append(int/list/tuple/dictionary/float)\n",
    "l.append(\"btech\")"
   ]
  },
  {
   "cell_type": "code",
   "execution_count": 23,
   "id": "823437a2",
   "metadata": {},
   "outputs": [
    {
     "data": {
      "text/plain": [
       "['apple', 123, 55.6, 'mystery', 'moon', 'btech']"
      ]
     },
     "execution_count": 23,
     "metadata": {},
     "output_type": "execute_result"
    }
   ],
   "source": [
    "l"
   ]
  },
  {
   "cell_type": "code",
   "execution_count": 24,
   "id": "d5953cc2",
   "metadata": {},
   "outputs": [],
   "source": [
    "l1=[1,2,3,4,5,6,7,8,9]"
   ]
  },
  {
   "cell_type": "code",
   "execution_count": 25,
   "id": "c0920e5e",
   "metadata": {},
   "outputs": [],
   "source": [
    "l1.clear()"
   ]
  },
  {
   "cell_type": "code",
   "execution_count": 26,
   "id": "7d91dbb0",
   "metadata": {},
   "outputs": [
    {
     "data": {
      "text/plain": [
       "[]"
      ]
     },
     "execution_count": 26,
     "metadata": {},
     "output_type": "execute_result"
    }
   ],
   "source": [
    "l1"
   ]
  },
  {
   "cell_type": "code",
   "execution_count": 29,
   "id": "86826497",
   "metadata": {},
   "outputs": [],
   "source": [
    "#newlistvariable=variablename.copy()\n",
    "l1=l.copy()"
   ]
  },
  {
   "cell_type": "code",
   "execution_count": 30,
   "id": "cbd50fc8",
   "metadata": {},
   "outputs": [
    {
     "data": {
      "text/plain": [
       "['apple', 123, 55.6, 'mystery', 'moon', 'btech']"
      ]
     },
     "execution_count": 30,
     "metadata": {},
     "output_type": "execute_result"
    }
   ],
   "source": [
    "l1"
   ]
  },
  {
   "cell_type": "code",
   "execution_count": 31,
   "id": "a2ce4a12",
   "metadata": {},
   "outputs": [],
   "source": [
    "#variablename.count(\"element\")"
   ]
  },
  {
   "cell_type": "code",
   "execution_count": 32,
   "id": "9ad8baee",
   "metadata": {},
   "outputs": [
    {
     "data": {
      "text/plain": [
       "0"
      ]
     },
     "execution_count": 32,
     "metadata": {},
     "output_type": "execute_result"
    }
   ],
   "source": [
    "l1.count(1)"
   ]
  },
  {
   "cell_type": "code",
   "execution_count": 34,
   "id": "bda3d00c",
   "metadata": {},
   "outputs": [
    {
     "data": {
      "text/plain": [
       "1"
      ]
     },
     "execution_count": 34,
     "metadata": {},
     "output_type": "execute_result"
    }
   ],
   "source": [
    "l1.count(123)"
   ]
  },
  {
   "cell_type": "code",
   "execution_count": 35,
   "id": "4addecc0",
   "metadata": {},
   "outputs": [
    {
     "data": {
      "text/plain": [
       "1"
      ]
     },
     "execution_count": 35,
     "metadata": {},
     "output_type": "execute_result"
    }
   ],
   "source": [
    "l1.count(\"apple\")"
   ]
  },
  {
   "cell_type": "code",
   "execution_count": 37,
   "id": "321b72c4",
   "metadata": {},
   "outputs": [],
   "source": [
    "#Extend: extends the list with multiple elements, must be passe in a list\n",
    "#variablename.extend([elememt])\n",
    "l.extend([1,2,\"Hello ME\"])"
   ]
  },
  {
   "cell_type": "code",
   "execution_count": 38,
   "id": "dcf64a1a",
   "metadata": {},
   "outputs": [
    {
     "data": {
      "text/plain": [
       "['apple', 123, 55.6, 'mystery', 'moon', 'btech', 1, 2, 'Hello ME']"
      ]
     },
     "execution_count": 38,
     "metadata": {},
     "output_type": "execute_result"
    }
   ],
   "source": [
    "l"
   ]
  },
  {
   "cell_type": "code",
   "execution_count": 39,
   "id": "bea7ebcc",
   "metadata": {},
   "outputs": [
    {
     "data": {
      "text/plain": [
       "8"
      ]
     },
     "execution_count": 39,
     "metadata": {},
     "output_type": "execute_result"
    }
   ],
   "source": [
    "#index used to give the index of the element\n",
    "l.index(\"Hello ME\")"
   ]
  },
  {
   "cell_type": "code",
   "execution_count": 40,
   "id": "2cef6727",
   "metadata": {},
   "outputs": [],
   "source": [
    "#insert -insert an element in the desired position\n",
    "#variablename.insert(indexposition,element)\n",
    "l.insert(10,\"Marzjuk\")"
   ]
  },
  {
   "cell_type": "code",
   "execution_count": 41,
   "id": "089a77fc",
   "metadata": {},
   "outputs": [
    {
     "data": {
      "text/plain": [
       "['apple', 123, 55.6, 'mystery', 'moon', 'btech', 1, 2, 'Hello ME', 'Marzjuk']"
      ]
     },
     "execution_count": 41,
     "metadata": {},
     "output_type": "execute_result"
    }
   ],
   "source": [
    "l"
   ]
  },
  {
   "cell_type": "code",
   "execution_count": 43,
   "id": "9c56f059",
   "metadata": {},
   "outputs": [],
   "source": [
    "l3=[12,34,4545,199,123]"
   ]
  },
  {
   "cell_type": "raw",
   "id": "eff8c081",
   "metadata": {},
   "source": [
    "l3.sort()"
   ]
  },
  {
   "cell_type": "code",
   "execution_count": 44,
   "id": "0536e9b7",
   "metadata": {},
   "outputs": [
    {
     "data": {
      "text/plain": [
       "[12, 34, 4545, 199, 123]"
      ]
     },
     "execution_count": 44,
     "metadata": {},
     "output_type": "execute_result"
    }
   ],
   "source": [
    "l3"
   ]
  },
  {
   "cell_type": "code",
   "execution_count": 2,
   "id": "83ccff27",
   "metadata": {},
   "outputs": [],
   "source": [
    "#[add even number in qalist from 100 to 1000]"
   ]
  },
  {
   "cell_type": "code",
   "execution_count": 3,
   "id": "142e5f2d",
   "metadata": {},
   "outputs": [],
   "source": [
    "#[data that is stored for loop in range, condition]100,1000"
   ]
  },
  {
   "cell_type": "code",
   "execution_count": 8,
   "id": "df55f375",
   "metadata": {},
   "outputs": [],
   "source": [
    "even_list=[i for i in range(100,1001) if(i%2==0)]"
   ]
  },
  {
   "cell_type": "code",
   "execution_count": 9,
   "id": "fe9a7836",
   "metadata": {},
   "outputs": [
    {
     "name": "stdout",
     "output_type": "stream",
     "text": [
      "[100, 102, 104, 106, 108, 110, 112, 114, 116, 118, 120, 122, 124, 126, 128, 130, 132, 134, 136, 138, 140, 142, 144, 146, 148, 150, 152, 154, 156, 158, 160, 162, 164, 166, 168, 170, 172, 174, 176, 178, 180, 182, 184, 186, 188, 190, 192, 194, 196, 198, 200, 202, 204, 206, 208, 210, 212, 214, 216, 218, 220, 222, 224, 226, 228, 230, 232, 234, 236, 238, 240, 242, 244, 246, 248, 250, 252, 254, 256, 258, 260, 262, 264, 266, 268, 270, 272, 274, 276, 278, 280, 282, 284, 286, 288, 290, 292, 294, 296, 298, 300, 302, 304, 306, 308, 310, 312, 314, 316, 318, 320, 322, 324, 326, 328, 330, 332, 334, 336, 338, 340, 342, 344, 346, 348, 350, 352, 354, 356, 358, 360, 362, 364, 366, 368, 370, 372, 374, 376, 378, 380, 382, 384, 386, 388, 390, 392, 394, 396, 398, 400, 402, 404, 406, 408, 410, 412, 414, 416, 418, 420, 422, 424, 426, 428, 430, 432, 434, 436, 438, 440, 442, 444, 446, 448, 450, 452, 454, 456, 458, 460, 462, 464, 466, 468, 470, 472, 474, 476, 478, 480, 482, 484, 486, 488, 490, 492, 494, 496, 498, 500, 502, 504, 506, 508, 510, 512, 514, 516, 518, 520, 522, 524, 526, 528, 530, 532, 534, 536, 538, 540, 542, 544, 546, 548, 550, 552, 554, 556, 558, 560, 562, 564, 566, 568, 570, 572, 574, 576, 578, 580, 582, 584, 586, 588, 590, 592, 594, 596, 598, 600, 602, 604, 606, 608, 610, 612, 614, 616, 618, 620, 622, 624, 626, 628, 630, 632, 634, 636, 638, 640, 642, 644, 646, 648, 650, 652, 654, 656, 658, 660, 662, 664, 666, 668, 670, 672, 674, 676, 678, 680, 682, 684, 686, 688, 690, 692, 694, 696, 698, 700, 702, 704, 706, 708, 710, 712, 714, 716, 718, 720, 722, 724, 726, 728, 730, 732, 734, 736, 738, 740, 742, 744, 746, 748, 750, 752, 754, 756, 758, 760, 762, 764, 766, 768, 770, 772, 774, 776, 778, 780, 782, 784, 786, 788, 790, 792, 794, 796, 798, 800, 802, 804, 806, 808, 810, 812, 814, 816, 818, 820, 822, 824, 826, 828, 830, 832, 834, 836, 838, 840, 842, 844, 846, 848, 850, 852, 854, 856, 858, 860, 862, 864, 866, 868, 870, 872, 874, 876, 878, 880, 882, 884, 886, 888, 890, 892, 894, 896, 898, 900, 902, 904, 906, 908, 910, 912, 914, 916, 918, 920, 922, 924, 926, 928, 930, 932, 934, 936, 938, 940, 942, 944, 946, 948, 950, 952, 954, 956, 958, 960, 962, 964, 966, 968, 970, 972, 974, 976, 978, 980, 982, 984, 986, 988, 990, 992, 994, 996, 998, 1000]\n"
     ]
    }
   ],
   "source": [
    "print(even_list)"
   ]
  },
  {
   "cell_type": "code",
   "execution_count": 10,
   "id": "5d6cdd7c",
   "metadata": {},
   "outputs": [],
   "source": [
    "l=[x for x in range(100,1000,2)]"
   ]
  },
  {
   "cell_type": "code",
   "execution_count": 11,
   "id": "545b546a",
   "metadata": {},
   "outputs": [
    {
     "name": "stdout",
     "output_type": "stream",
     "text": [
      "[100, 102, 104, 106, 108, 110, 112, 114, 116, 118, 120, 122, 124, 126, 128, 130, 132, 134, 136, 138, 140, 142, 144, 146, 148, 150, 152, 154, 156, 158, 160, 162, 164, 166, 168, 170, 172, 174, 176, 178, 180, 182, 184, 186, 188, 190, 192, 194, 196, 198, 200, 202, 204, 206, 208, 210, 212, 214, 216, 218, 220, 222, 224, 226, 228, 230, 232, 234, 236, 238, 240, 242, 244, 246, 248, 250, 252, 254, 256, 258, 260, 262, 264, 266, 268, 270, 272, 274, 276, 278, 280, 282, 284, 286, 288, 290, 292, 294, 296, 298, 300, 302, 304, 306, 308, 310, 312, 314, 316, 318, 320, 322, 324, 326, 328, 330, 332, 334, 336, 338, 340, 342, 344, 346, 348, 350, 352, 354, 356, 358, 360, 362, 364, 366, 368, 370, 372, 374, 376, 378, 380, 382, 384, 386, 388, 390, 392, 394, 396, 398, 400, 402, 404, 406, 408, 410, 412, 414, 416, 418, 420, 422, 424, 426, 428, 430, 432, 434, 436, 438, 440, 442, 444, 446, 448, 450, 452, 454, 456, 458, 460, 462, 464, 466, 468, 470, 472, 474, 476, 478, 480, 482, 484, 486, 488, 490, 492, 494, 496, 498, 500, 502, 504, 506, 508, 510, 512, 514, 516, 518, 520, 522, 524, 526, 528, 530, 532, 534, 536, 538, 540, 542, 544, 546, 548, 550, 552, 554, 556, 558, 560, 562, 564, 566, 568, 570, 572, 574, 576, 578, 580, 582, 584, 586, 588, 590, 592, 594, 596, 598, 600, 602, 604, 606, 608, 610, 612, 614, 616, 618, 620, 622, 624, 626, 628, 630, 632, 634, 636, 638, 640, 642, 644, 646, 648, 650, 652, 654, 656, 658, 660, 662, 664, 666, 668, 670, 672, 674, 676, 678, 680, 682, 684, 686, 688, 690, 692, 694, 696, 698, 700, 702, 704, 706, 708, 710, 712, 714, 716, 718, 720, 722, 724, 726, 728, 730, 732, 734, 736, 738, 740, 742, 744, 746, 748, 750, 752, 754, 756, 758, 760, 762, 764, 766, 768, 770, 772, 774, 776, 778, 780, 782, 784, 786, 788, 790, 792, 794, 796, 798, 800, 802, 804, 806, 808, 810, 812, 814, 816, 818, 820, 822, 824, 826, 828, 830, 832, 834, 836, 838, 840, 842, 844, 846, 848, 850, 852, 854, 856, 858, 860, 862, 864, 866, 868, 870, 872, 874, 876, 878, 880, 882, 884, 886, 888, 890, 892, 894, 896, 898, 900, 902, 904, 906, 908, 910, 912, 914, 916, 918, 920, 922, 924, 926, 928, 930, 932, 934, 936, 938, 940, 942, 944, 946, 948, 950, 952, 954, 956, 958, 960, 962, 964, 966, 968, 970, 972, 974, 976, 978, 980, 982, 984, 986, 988, 990, 992, 994, 996, 998]\n"
     ]
    }
   ],
   "source": [
    "print(l)"
   ]
  },
  {
   "cell_type": "code",
   "execution_count": 12,
   "id": "1e4b1ae4",
   "metadata": {},
   "outputs": [],
   "source": [
    "#create a list which has sques powers of numbers up to 10"
   ]
  },
  {
   "cell_type": "code",
   "execution_count": 23,
   "id": "2b77aa70",
   "metadata": {},
   "outputs": [],
   "source": [
    "squ =[x**2 for x in range(1,11)]"
   ]
  },
  {
   "cell_type": "code",
   "execution_count": 24,
   "id": "b866129a",
   "metadata": {},
   "outputs": [
    {
     "data": {
      "text/plain": [
       "[1, 4, 9, 16, 25, 36, 49, 64, 81, 100]"
      ]
     },
     "execution_count": 24,
     "metadata": {},
     "output_type": "execute_result"
    }
   ],
   "source": [
    "squ"
   ]
  },
  {
   "cell_type": "markdown",
   "id": "2b3b19f5",
   "metadata": {},
   "source": [
    "##Tuple"
   ]
  },
  {
   "cell_type": "code",
   "execution_count": 25,
   "id": "30ea4763",
   "metadata": {},
   "outputs": [],
   "source": [
    "tup=(\"marz\",123,\"mist\",425.6)"
   ]
  },
  {
   "cell_type": "code",
   "execution_count": 26,
   "id": "bc7a99f4",
   "metadata": {},
   "outputs": [
    {
     "data": {
      "text/plain": [
       "123"
      ]
     },
     "execution_count": 26,
     "metadata": {},
     "output_type": "execute_result"
    }
   ],
   "source": [
    "tup[1]"
   ]
  },
  {
   "cell_type": "code",
   "execution_count": 28,
   "id": "8ca9f7e9",
   "metadata": {},
   "outputs": [
    {
     "data": {
      "text/plain": [
       "(123, 'mist')"
      ]
     },
     "execution_count": 28,
     "metadata": {},
     "output_type": "execute_result"
    }
   ],
   "source": [
    "tup[1:3]"
   ]
  },
  {
   "cell_type": "code",
   "execution_count": 29,
   "id": "a64e0f69",
   "metadata": {},
   "outputs": [
    {
     "data": {
      "text/plain": [
       "('marz', 123, 'mist')"
      ]
     },
     "execution_count": 29,
     "metadata": {},
     "output_type": "execute_result"
    }
   ],
   "source": [
    "tup[:3]"
   ]
  },
  {
   "cell_type": "code",
   "execution_count": 30,
   "id": "8e2f73fd",
   "metadata": {},
   "outputs": [
    {
     "ename": "TypeError",
     "evalue": "'tuple' object does not support item assignment",
     "output_type": "error",
     "traceback": [
      "\u001b[1;31m---------------------------------------------------------------------------\u001b[0m",
      "\u001b[1;31mTypeError\u001b[0m                                 Traceback (most recent call last)",
      "Input \u001b[1;32mIn [30]\u001b[0m, in \u001b[0;36m<cell line: 1>\u001b[1;34m()\u001b[0m\n\u001b[1;32m----> 1\u001b[0m tup[\u001b[38;5;241m0\u001b[39m]\u001b[38;5;241m=\u001b[39m\u001b[38;5;241m1234\u001b[39m\n",
      "\u001b[1;31mTypeError\u001b[0m: 'tuple' object does not support item assignment"
     ]
    }
   ],
   "source": [
    "tup[0]=1234"
   ]
  },
  {
   "cell_type": "code",
   "execution_count": 31,
   "id": "4595e354",
   "metadata": {},
   "outputs": [
    {
     "data": {
      "text/plain": [
       "['__add__',\n",
       " '__class__',\n",
       " '__class_getitem__',\n",
       " '__contains__',\n",
       " '__delattr__',\n",
       " '__dir__',\n",
       " '__doc__',\n",
       " '__eq__',\n",
       " '__format__',\n",
       " '__ge__',\n",
       " '__getattribute__',\n",
       " '__getitem__',\n",
       " '__getnewargs__',\n",
       " '__gt__',\n",
       " '__hash__',\n",
       " '__init__',\n",
       " '__init_subclass__',\n",
       " '__iter__',\n",
       " '__le__',\n",
       " '__len__',\n",
       " '__lt__',\n",
       " '__mul__',\n",
       " '__ne__',\n",
       " '__new__',\n",
       " '__reduce__',\n",
       " '__reduce_ex__',\n",
       " '__repr__',\n",
       " '__rmul__',\n",
       " '__setattr__',\n",
       " '__sizeof__',\n",
       " '__str__',\n",
       " '__subclasshook__',\n",
       " 'count',\n",
       " 'index']"
      ]
     },
     "execution_count": 31,
     "metadata": {},
     "output_type": "execute_result"
    }
   ],
   "source": [
    "dir(tup)"
   ]
  },
  {
   "cell_type": "code",
   "execution_count": 32,
   "id": "7922bdc0",
   "metadata": {},
   "outputs": [
    {
     "data": {
      "text/plain": [
       "1"
      ]
     },
     "execution_count": 32,
     "metadata": {},
     "output_type": "execute_result"
    }
   ],
   "source": [
    "tup.count(\"marz\")"
   ]
  },
  {
   "cell_type": "code",
   "execution_count": 33,
   "id": "7d28e6ca",
   "metadata": {},
   "outputs": [
    {
     "data": {
      "text/plain": [
       "1"
      ]
     },
     "execution_count": 33,
     "metadata": {},
     "output_type": "execute_result"
    }
   ],
   "source": [
    "tup.count(123)"
   ]
  },
  {
   "cell_type": "code",
   "execution_count": 34,
   "id": "3315e0d6",
   "metadata": {},
   "outputs": [
    {
     "data": {
      "text/plain": [
       "0"
      ]
     },
     "execution_count": 34,
     "metadata": {},
     "output_type": "execute_result"
    }
   ],
   "source": [
    "tup.count(99)"
   ]
  },
  {
   "cell_type": "code",
   "execution_count": 36,
   "id": "b6e8e01e",
   "metadata": {},
   "outputs": [
    {
     "data": {
      "text/plain": [
       "0"
      ]
     },
     "execution_count": 36,
     "metadata": {},
     "output_type": "execute_result"
    }
   ],
   "source": [
    "tup.index(\"marz\")"
   ]
  },
  {
   "cell_type": "code",
   "execution_count": 37,
   "id": "96c60dec",
   "metadata": {},
   "outputs": [],
   "source": [
    "#dictionary is a collection of key and value pair wich are not in order and consists of keys and value pairs"
   ]
  },
  {
   "cell_type": "code",
   "execution_count": 39,
   "id": "27fd581f",
   "metadata": {},
   "outputs": [],
   "source": [
    "dict={\"brand\":\"FORD\",\"model\":\"mustang\",\"year\":1964}"
   ]
  },
  {
   "cell_type": "code",
   "execution_count": 56,
   "id": "11b10bf8",
   "metadata": {},
   "outputs": [],
   "source": [
    "dict1={1:2,(1,2,3):\"string\",12.5:30.5}#cant able to create dictionary inn this format"
   ]
  },
  {
   "cell_type": "code",
   "execution_count": 57,
   "id": "8c2b27f8",
   "metadata": {},
   "outputs": [],
   "source": [
    "#since because keys:int,string,tuple || Values:integers,string,tup,float etctect"
   ]
  },
  {
   "cell_type": "code",
   "execution_count": 58,
   "id": "a4d60984",
   "metadata": {},
   "outputs": [],
   "source": [
    "#cannot assign list as key"
   ]
  },
  {
   "cell_type": "code",
   "execution_count": 59,
   "id": "fee441b1",
   "metadata": {},
   "outputs": [
    {
     "data": {
      "text/plain": [
       "{1: 2, (1, 2, 3): 'string', 12.5: 30.5}"
      ]
     },
     "execution_count": 59,
     "metadata": {},
     "output_type": "execute_result"
    }
   ],
   "source": [
    "dict1"
   ]
  },
  {
   "cell_type": "code",
   "execution_count": 48,
   "id": "8efb6520",
   "metadata": {},
   "outputs": [],
   "source": [
    "#should not have same key names "
   ]
  },
  {
   "cell_type": "code",
   "execution_count": 60,
   "id": "6b9c17e0",
   "metadata": {},
   "outputs": [
    {
     "ename": "TypeError",
     "evalue": "unhashable type: 'list'",
     "output_type": "error",
     "traceback": [
      "\u001b[1;31m---------------------------------------------------------------------------\u001b[0m",
      "\u001b[1;31mTypeError\u001b[0m                                 Traceback (most recent call last)",
      "Input \u001b[1;32mIn [60]\u001b[0m, in \u001b[0;36m<cell line: 1>\u001b[1;34m()\u001b[0m\n\u001b[1;32m----> 1\u001b[0m mint\u001b[38;5;241m=\u001b[39m{[\u001b[38;5;241m1\u001b[39m,\u001b[38;5;241m2\u001b[39m,\u001b[38;5;241m3\u001b[39m]:\u001b[38;5;124m\"\u001b[39m\u001b[38;5;124mMArz\u001b[39m\u001b[38;5;124m\"\u001b[39m}\n",
      "\u001b[1;31mTypeError\u001b[0m: unhashable type: 'list'"
     ]
    }
   ],
   "source": [
    "mint={[1,2,3]:\"MArz\"}"
   ]
  },
  {
   "cell_type": "code",
   "execution_count": 63,
   "id": "dc99ac52",
   "metadata": {},
   "outputs": [],
   "source": [
    "#dict index not possible so asslicing,value are mutable keys are not mutable"
   ]
  },
  {
   "cell_type": "code",
   "execution_count": null,
   "id": "a88c70a0",
   "metadata": {},
   "outputs": [],
   "source": []
  },
  {
   "cell_type": "code",
   "execution_count": 64,
   "id": "5f71fbae",
   "metadata": {},
   "outputs": [
    {
     "data": {
      "text/plain": [
       "['__class__',\n",
       " '__class_getitem__',\n",
       " '__contains__',\n",
       " '__delattr__',\n",
       " '__delitem__',\n",
       " '__dir__',\n",
       " '__doc__',\n",
       " '__eq__',\n",
       " '__format__',\n",
       " '__ge__',\n",
       " '__getattribute__',\n",
       " '__getitem__',\n",
       " '__gt__',\n",
       " '__hash__',\n",
       " '__init__',\n",
       " '__init_subclass__',\n",
       " '__ior__',\n",
       " '__iter__',\n",
       " '__le__',\n",
       " '__len__',\n",
       " '__lt__',\n",
       " '__ne__',\n",
       " '__new__',\n",
       " '__or__',\n",
       " '__reduce__',\n",
       " '__reduce_ex__',\n",
       " '__repr__',\n",
       " '__reversed__',\n",
       " '__ror__',\n",
       " '__setattr__',\n",
       " '__setitem__',\n",
       " '__sizeof__',\n",
       " '__str__',\n",
       " '__subclasshook__',\n",
       " 'clear',\n",
       " 'copy',\n",
       " 'fromkeys',\n",
       " 'get',\n",
       " 'items',\n",
       " 'keys',\n",
       " 'pop',\n",
       " 'popitem',\n",
       " 'setdefault',\n",
       " 'update',\n",
       " 'values']"
      ]
     },
     "execution_count": 64,
     "metadata": {},
     "output_type": "execute_result"
    }
   ],
   "source": [
    "dir(dict)"
   ]
  },
  {
   "cell_type": "code",
   "execution_count": 67,
   "id": "7f049fc5",
   "metadata": {},
   "outputs": [],
   "source": [
    "dict.clear()#clear the data\n"
   ]
  },
  {
   "cell_type": "code",
   "execution_count": 68,
   "id": "542c4898",
   "metadata": {},
   "outputs": [
    {
     "data": {
      "text/plain": [
       "{}"
      ]
     },
     "execution_count": 68,
     "metadata": {},
     "output_type": "execute_result"
    }
   ],
   "source": [
    "dict"
   ]
  },
  {
   "cell_type": "code",
   "execution_count": 71,
   "id": "ce80b304",
   "metadata": {},
   "outputs": [],
   "source": [
    "dict4=dict1.copy()"
   ]
  },
  {
   "cell_type": "code",
   "execution_count": 72,
   "id": "eff28468",
   "metadata": {},
   "outputs": [
    {
     "data": {
      "text/plain": [
       "{1: 2, (1, 2, 3): 'string', 12.5: 30.5}"
      ]
     },
     "execution_count": 72,
     "metadata": {},
     "output_type": "execute_result"
    }
   ],
   "source": [
    "dict4\n"
   ]
  },
  {
   "cell_type": "code",
   "execution_count": 76,
   "id": "0601947a",
   "metadata": {},
   "outputs": [
    {
     "data": {
      "text/plain": [
       "2"
      ]
     },
     "execution_count": 76,
     "metadata": {},
     "output_type": "execute_result"
    }
   ],
   "source": [
    "dict4.get(1)#sict.get(\"keynames\")"
   ]
  },
  {
   "cell_type": "code",
   "execution_count": 74,
   "id": "1154ff10",
   "metadata": {},
   "outputs": [
    {
     "data": {
      "text/plain": [
       "2"
      ]
     },
     "execution_count": 74,
     "metadata": {},
     "output_type": "execute_result"
    }
   ],
   "source": [
    "dict4[1]"
   ]
  },
  {
   "cell_type": "code",
   "execution_count": 78,
   "id": "f53cda0d",
   "metadata": {},
   "outputs": [
    {
     "data": {
      "text/plain": [
       "30.5"
      ]
     },
     "execution_count": 78,
     "metadata": {},
     "output_type": "execute_result"
    }
   ],
   "source": [
    "dict4[12.5]"
   ]
  },
  {
   "cell_type": "code",
   "execution_count": 79,
   "id": "12ca0762",
   "metadata": {},
   "outputs": [],
   "source": [
    "#dict.items() provides alll the key value pairs"
   ]
  },
  {
   "cell_type": "code",
   "execution_count": 80,
   "id": "d77e7cc1",
   "metadata": {},
   "outputs": [
    {
     "data": {
      "text/plain": [
       "dict_items([(1, 2), ((1, 2, 3), 'string'), (12.5, 30.5)])"
      ]
     },
     "execution_count": 80,
     "metadata": {},
     "output_type": "execute_result"
    }
   ],
   "source": [
    "dict4.items()"
   ]
  },
  {
   "cell_type": "code",
   "execution_count": 81,
   "id": "974c7fa2",
   "metadata": {},
   "outputs": [
    {
     "data": {
      "text/plain": [
       "dict_keys([1, (1, 2, 3), 12.5])"
      ]
     },
     "execution_count": 81,
     "metadata": {},
     "output_type": "execute_result"
    }
   ],
   "source": [
    "dict4.keys()"
   ]
  },
  {
   "cell_type": "code",
   "execution_count": 82,
   "id": "fbc88a06",
   "metadata": {},
   "outputs": [
    {
     "data": {
      "text/plain": [
       "dict_values([2, 'string', 30.5])"
      ]
     },
     "execution_count": 82,
     "metadata": {},
     "output_type": "execute_result"
    }
   ],
   "source": [
    "dict4.values()"
   ]
  },
  {
   "cell_type": "code",
   "execution_count": null,
   "id": "acb3fb37",
   "metadata": {},
   "outputs": [],
   "source": []
  },
  {
   "cell_type": "code",
   "execution_count": 85,
   "id": "adb4091f",
   "metadata": {},
   "outputs": [
    {
     "data": {
      "text/plain": [
       "30.5"
      ]
     },
     "execution_count": 85,
     "metadata": {},
     "output_type": "execute_result"
    }
   ],
   "source": [
    "dict4.pop(12.5)#inlist pop removes the last element"
   ]
  },
  {
   "cell_type": "code",
   "execution_count": 86,
   "id": "5c9b32e7",
   "metadata": {},
   "outputs": [
    {
     "data": {
      "text/plain": [
       "{1: 2, (1, 2, 3): 'string'}"
      ]
     },
     "execution_count": 86,
     "metadata": {},
     "output_type": "execute_result"
    }
   ],
   "source": [
    "dict4"
   ]
  },
  {
   "cell_type": "code",
   "execution_count": 87,
   "id": "507d5283",
   "metadata": {},
   "outputs": [
    {
     "data": {
      "text/plain": [
       "((1, 2, 3), 'string')"
      ]
     },
     "execution_count": 87,
     "metadata": {},
     "output_type": "execute_result"
    }
   ],
   "source": [
    "dict4.popitem()#last item deletion"
   ]
  },
  {
   "cell_type": "code",
   "execution_count": 88,
   "id": "86708f75",
   "metadata": {},
   "outputs": [
    {
     "data": {
      "text/plain": [
       "{1: 2}"
      ]
     },
     "execution_count": 88,
     "metadata": {},
     "output_type": "execute_result"
    }
   ],
   "source": [
    "dict4"
   ]
  },
  {
   "cell_type": "markdown",
   "id": "03de9afc",
   "metadata": {},
   "source": [
    "##create a dictionary with employees name,designation,salary,dept,details like name and exp and put it in another dict delete the dept"
   ]
  },
  {
   "cell_type": "code",
   "execution_count": 95,
   "id": "c8102f65",
   "metadata": {},
   "outputs": [],
   "source": [
    "work={\"name\":\"marz\",\"design\":\"SD\",\"salary\":100000,\"DEPT\":\"ECE\"}"
   ]
  },
  {
   "cell_type": "code",
   "execution_count": 90,
   "id": "713c885e",
   "metadata": {},
   "outputs": [],
   "source": [
    "d={\"a\":\"b\",\"d\":\"e\"}"
   ]
  },
  {
   "cell_type": "code",
   "execution_count": 101,
   "id": "609895ac",
   "metadata": {},
   "outputs": [],
   "source": [
    "n=work[\"name\"]\n",
    "e=work[\"salary\"]\n",
    "emp={\"n\":n,\"e\":e}"
   ]
  },
  {
   "cell_type": "code",
   "execution_count": 102,
   "id": "e6611637",
   "metadata": {},
   "outputs": [
    {
     "data": {
      "text/plain": [
       "{'n': 'marz', 'e': 100000}"
      ]
     },
     "execution_count": 102,
     "metadata": {},
     "output_type": "execute_result"
    }
   ],
   "source": [
    "emp"
   ]
  },
  {
   "cell_type": "code",
   "execution_count": 103,
   "id": "ad6ad96f",
   "metadata": {},
   "outputs": [],
   "source": [
    "dict4.update(emp)"
   ]
  },
  {
   "cell_type": "code",
   "execution_count": 104,
   "id": "4bbddfde",
   "metadata": {},
   "outputs": [
    {
     "data": {
      "text/plain": [
       "{1: 2, 'a': 'b', 'd': 'e', 'n': 'marz', 'e': 100000}"
      ]
     },
     "execution_count": 104,
     "metadata": {},
     "output_type": "execute_result"
    }
   ],
   "source": [
    "dict4"
   ]
  },
  {
   "cell_type": "code",
   "execution_count": 91,
   "id": "316bba92",
   "metadata": {},
   "outputs": [],
   "source": [
    "dict4.update(d)#d is the previous dictionary"
   ]
  },
  {
   "cell_type": "code",
   "execution_count": 93,
   "id": "a7c00830",
   "metadata": {},
   "outputs": [
    {
     "data": {
      "text/plain": [
       "{1: 2, 'a': 'b', 'd': 'e'}"
      ]
     },
     "execution_count": 93,
     "metadata": {},
     "output_type": "execute_result"
    }
   ],
   "source": [
    "dict4"
   ]
  },
  {
   "cell_type": "code",
   "execution_count": 106,
   "id": "5b436e20",
   "metadata": {},
   "outputs": [],
   "source": [
    "set ={1,2,3,4,5,6,7,8,9}#homogeneous datatype"
   ]
  },
  {
   "cell_type": "code",
   "execution_count": 107,
   "id": "4131bc8a",
   "metadata": {},
   "outputs": [
    {
     "name": "stdout",
     "output_type": "stream",
     "text": [
      "{1, 2, 3, 4, 5, 6, 7, 8, 9}\n"
     ]
    }
   ],
   "source": [
    "print(set)"
   ]
  },
  {
   "cell_type": "code",
   "execution_count": 108,
   "id": "430ee293",
   "metadata": {},
   "outputs": [
    {
     "data": {
      "text/plain": [
       "{1, 2, 3, 4, 5, 6, 7, 8, 9}"
      ]
     },
     "execution_count": 108,
     "metadata": {},
     "output_type": "execute_result"
    }
   ],
   "source": [
    "set"
   ]
  },
  {
   "cell_type": "code",
   "execution_count": 109,
   "id": "2be1f8c8",
   "metadata": {},
   "outputs": [],
   "source": [
    "set={1,\"MARZ\",1123}"
   ]
  },
  {
   "cell_type": "code",
   "execution_count": 110,
   "id": "771c459c",
   "metadata": {},
   "outputs": [
    {
     "data": {
      "text/plain": [
       "{1, 1123, 'MARZ'}"
      ]
     },
     "execution_count": 110,
     "metadata": {},
     "output_type": "execute_result"
    }
   ],
   "source": [
    "set"
   ]
  },
  {
   "cell_type": "code",
   "execution_count": 111,
   "id": "9c8c5b56",
   "metadata": {},
   "outputs": [],
   "source": [
    "#set is not having indexes and slicing also not possible"
   ]
  },
  {
   "cell_type": "code",
   "execution_count": 112,
   "id": "30588ab6",
   "metadata": {},
   "outputs": [
    {
     "data": {
      "text/plain": [
       "['__and__',\n",
       " '__class__',\n",
       " '__class_getitem__',\n",
       " '__contains__',\n",
       " '__delattr__',\n",
       " '__dir__',\n",
       " '__doc__',\n",
       " '__eq__',\n",
       " '__format__',\n",
       " '__ge__',\n",
       " '__getattribute__',\n",
       " '__gt__',\n",
       " '__hash__',\n",
       " '__iand__',\n",
       " '__init__',\n",
       " '__init_subclass__',\n",
       " '__ior__',\n",
       " '__isub__',\n",
       " '__iter__',\n",
       " '__ixor__',\n",
       " '__le__',\n",
       " '__len__',\n",
       " '__lt__',\n",
       " '__ne__',\n",
       " '__new__',\n",
       " '__or__',\n",
       " '__rand__',\n",
       " '__reduce__',\n",
       " '__reduce_ex__',\n",
       " '__repr__',\n",
       " '__ror__',\n",
       " '__rsub__',\n",
       " '__rxor__',\n",
       " '__setattr__',\n",
       " '__sizeof__',\n",
       " '__str__',\n",
       " '__sub__',\n",
       " '__subclasshook__',\n",
       " '__xor__',\n",
       " 'add',\n",
       " 'clear',\n",
       " 'copy',\n",
       " 'difference',\n",
       " 'difference_update',\n",
       " 'discard',\n",
       " 'intersection',\n",
       " 'intersection_update',\n",
       " 'isdisjoint',\n",
       " 'issubset',\n",
       " 'issuperset',\n",
       " 'pop',\n",
       " 'remove',\n",
       " 'symmetric_difference',\n",
       " 'symmetric_difference_update',\n",
       " 'union',\n",
       " 'update']"
      ]
     },
     "execution_count": 112,
     "metadata": {},
     "output_type": "execute_result"
    }
   ],
   "source": [
    "dir(set)"
   ]
  },
  {
   "cell_type": "code",
   "execution_count": 113,
   "id": "e2023ec1",
   "metadata": {},
   "outputs": [],
   "source": [
    "tup=(i for i in range(10))"
   ]
  },
  {
   "cell_type": "code",
   "execution_count": 115,
   "id": "808c864a",
   "metadata": {},
   "outputs": [
    {
     "data": {
      "text/plain": [
       "<generator object <genexpr> at 0x000001F7B33ABB30>"
      ]
     },
     "execution_count": 115,
     "metadata": {},
     "output_type": "execute_result"
    }
   ],
   "source": [
    "tup\n",
    "#list comprehension not possible"
   ]
  },
  {
   "cell_type": "code",
   "execution_count": 119,
   "id": "02322d4a",
   "metadata": {},
   "outputs": [],
   "source": [
    "tup=tuple( i for i in range(10))#generator"
   ]
  },
  {
   "cell_type": "code",
   "execution_count": 120,
   "id": "93e92ab0",
   "metadata": {},
   "outputs": [
    {
     "data": {
      "text/plain": [
       "(0, 1, 2, 3, 4, 5, 6, 7, 8, 9)"
      ]
     },
     "execution_count": 120,
     "metadata": {},
     "output_type": "execute_result"
    }
   ],
   "source": [
    "tup#will get outut only if type casted"
   ]
  },
  {
   "cell_type": "code",
   "execution_count": 121,
   "id": "bffd4e29",
   "metadata": {},
   "outputs": [],
   "source": [
    "d={i:j for i,j in{1:'a',2:'b'}.items()}"
   ]
  },
  {
   "cell_type": "code",
   "execution_count": 122,
   "id": "ec5cc308",
   "metadata": {},
   "outputs": [],
   "source": [
    "#dictionary list comprehension os posssobel"
   ]
  },
  {
   "cell_type": "code",
   "execution_count": 123,
   "id": "22746d68",
   "metadata": {},
   "outputs": [
    {
     "data": {
      "text/plain": [
       "{1: 'a', 2: 'b'}"
      ]
     },
     "execution_count": 123,
     "metadata": {},
     "output_type": "execute_result"
    }
   ],
   "source": [
    "d"
   ]
  },
  {
   "cell_type": "code",
   "execution_count": 126,
   "id": "19b3b7c4",
   "metadata": {},
   "outputs": [
    {
     "ename": "SyntaxError",
     "evalue": "invalid syntax (1563175741.py, line 1)",
     "output_type": "error",
     "traceback": [
      "\u001b[1;36m  Input \u001b[1;32mIn [126]\u001b[1;36m\u001b[0m\n\u001b[1;33m    for i in [1, 2, 3, 4] [::-1]\u001b[0m\n\u001b[1;37m                                ^\u001b[0m\n\u001b[1;31mSyntaxError\u001b[0m\u001b[1;31m:\u001b[0m invalid syntax\n"
     ]
    }
   ],
   "source": [
    "for i in [1, 2, 3, 4][::-1]"
   ]
  },
  {
   "cell_type": "code",
   "execution_count": null,
   "id": "6a119994",
   "metadata": {},
   "outputs": [],
   "source": []
  }
 ],
 "metadata": {
  "kernelspec": {
   "display_name": "Python 3 (ipykernel)",
   "language": "python",
   "name": "python3"
  },
  "language_info": {
   "codemirror_mode": {
    "name": "ipython",
    "version": 3
   },
   "file_extension": ".py",
   "mimetype": "text/x-python",
   "name": "python",
   "nbconvert_exporter": "python",
   "pygments_lexer": "ipython3",
   "version": "3.9.12"
  }
 },
 "nbformat": 4,
 "nbformat_minor": 5
}
