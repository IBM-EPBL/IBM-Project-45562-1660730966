{
 "cells": [
  {
   "cell_type": "markdown",
   "id": "89d63d1f",
   "metadata": {},
   "source": [
    "IBM Project Name: Real-Time Communication System Powered by AI for Specially Abled\n",
    "TEAM ID:\n",
    "TEAM Member:M Mohamed Marzjuk"
   ]
  },
  {
   "cell_type": "markdown",
   "id": "b7aecf1c",
   "metadata": {},
   "source": [
    "Model Building:\n",
    "\n",
    "Import The Required Model Building Libraries"
   ]
  },
  {
   "cell_type": "code",
   "execution_count": 2,
   "id": "e191ea9f",
   "metadata": {},
   "outputs": [
    {
     "name": "stderr",
     "output_type": "stream",
     "text": [
      "C:\\Users\\mm\\anaconda3\\lib\\site-packages\\scipy\\__init__.py:146: UserWarning: A NumPy version >=1.16.5 and <1.23.0 is required for this version of SciPy (detected version 1.23.3\n",
      "  warnings.warn(f\"A NumPy version >={np_minversion} and <{np_maxversion}\"\n"
     ]
    }
   ],
   "source": [
    "#import imagedatagenerator\n",
    "from keras.preprocessing.image import ImageDataGenerator"
   ]
  },
  {
   "cell_type": "code",
   "execution_count": 3,
   "id": "62154e63",
   "metadata": {},
   "outputs": [],
   "source": [
    "#training datagen\n",
    "train_datagen=ImageDataGenerator(rescale=1./255,shear_range=0.2,zoom_range=0.2,horizontal_flip=True)"
   ]
  },
  {
   "cell_type": "code",
   "execution_count": 4,
   "id": "4d28cccf",
   "metadata": {},
   "outputs": [],
   "source": [
    "#testing datagen\n",
    "test_datagen=ImageDataGenerator(rescale=1./255)"
   ]
  },
  {
   "cell_type": "markdown",
   "id": "cfb1afa9",
   "metadata": {},
   "source": [
    "IMPORTING tensorflow\n"
   ]
  },
  {
   "cell_type": "code",
   "execution_count": 5,
   "id": "c8bd7b5d",
   "metadata": {},
   "outputs": [],
   "source": [
    "import tensorflow as tf\n",
    "import os"
   ]
  },
  {
   "cell_type": "markdown",
   "id": "ee113b1f",
   "metadata": {},
   "source": [
    "Initialize The Model"
   ]
  },
  {
   "cell_type": "code",
   "execution_count": 6,
   "id": "e35ce653",
   "metadata": {},
   "outputs": [],
   "source": [
    "#create model\n",
    "from keras.models import Sequential\n",
    "from keras.layers import Dense\n",
    "from keras.layers import Convolution2D\n",
    "from keras.layers import MaxPooling2D\n",
    "from keras.layers import Dropout\n",
    "from keras.layers import Flatten \n",
    "from tensorflow.keras.preprocessing.image import ImageDataGenerator"
   ]
  },
  {
   "cell_type": "code",
   "execution_count": 7,
   "id": "57d19801",
   "metadata": {},
   "outputs": [],
   "source": [
    "import numpy as np\n",
    "import matplotlib.pyplot as plt #to view graph in colab itself\n",
    "import IPython.display as display\n",
    "from PIL import Image\n",
    "import pathlib"
   ]
  },
  {
   "cell_type": "markdown",
   "id": "bb447359",
   "metadata": {},
   "source": [
    "Unzipping the dataset"
   ]
  },
  {
   "cell_type": "markdown",
   "id": "d9caedd0",
   "metadata": {},
   "source": [
    "Applying ImageDataGenerator to training set"
   ]
  },
  {
   "cell_type": "code",
   "execution_count": 8,
   "id": "c967e4ae",
   "metadata": {},
   "outputs": [
    {
     "name": "stdout",
     "output_type": "stream",
     "text": [
      "Found 15750 images belonging to 9 classes.\n"
     ]
    }
   ],
   "source": [
    "x_train=train_datagen.flow_from_directory(r'M:\\software\\AI_TRAINING_IBM\\Projects_workspace\\projectfiles\\Dataset\\training_set',target_size=(64,64),batch_size=32,\n",
    "                                          class_mode='categorical',color_mode=\"grayscale\")"
   ]
  },
  {
   "cell_type": "markdown",
   "id": "e6c57889",
   "metadata": {},
   "source": [
    "Applying ImageDataGenerator to test set"
   ]
  },
  {
   "cell_type": "code",
   "execution_count": 9,
   "id": "bb5c1b1d",
   "metadata": {},
   "outputs": [
    {
     "name": "stdout",
     "output_type": "stream",
     "text": [
      "Found 2250 images belonging to 9 classes.\n"
     ]
    }
   ],
   "source": [
    "x_test=test_datagen.flow_from_directory(r'M:\\software\\AI_TRAINING_IBM\\Projects_workspace\\projectfiles\\Dataset\\test_set',target_size=(64,64),batch_size=200,\n",
    "                                          class_mode='categorical',color_mode=\"grayscale\")"
   ]
  },
  {
   "cell_type": "code",
   "execution_count": 10,
   "id": "13157df6",
   "metadata": {},
   "outputs": [],
   "source": [
    "a=len(x_train)\n",
    "b=len(x_test)"
   ]
  },
  {
   "cell_type": "markdown",
   "id": "4771a7d3",
   "metadata": {},
   "source": [
    "Length of training set"
   ]
  },
  {
   "cell_type": "code",
   "execution_count": 11,
   "id": "a2de7819",
   "metadata": {},
   "outputs": [
    {
     "data": {
      "text/plain": [
       "493"
      ]
     },
     "execution_count": 11,
     "metadata": {},
     "output_type": "execute_result"
    }
   ],
   "source": [
    "a"
   ]
  },
  {
   "cell_type": "markdown",
   "id": "c493adf5",
   "metadata": {},
   "source": [
    "Length of test set"
   ]
  },
  {
   "cell_type": "code",
   "execution_count": 12,
   "id": "efb0b806",
   "metadata": {},
   "outputs": [
    {
     "data": {
      "text/plain": [
       "12"
      ]
     },
     "execution_count": 12,
     "metadata": {},
     "output_type": "execute_result"
    }
   ],
   "source": [
    "b"
   ]
  },
  {
   "cell_type": "markdown",
   "id": "a3616383",
   "metadata": {},
   "source": [
    "Add Layers"
   ]
  },
  {
   "cell_type": "code",
   "execution_count": 13,
   "id": "152e6cf3",
   "metadata": {},
   "outputs": [],
   "source": [
    "#create model\n",
    "model=Sequential()"
   ]
  },
  {
   "cell_type": "markdown",
   "id": "b1a831fe",
   "metadata": {},
   "source": [
    "# Adding the convolution layer"
   ]
  },
  {
   "cell_type": "code",
   "execution_count": 14,
   "id": "c180bcf6",
   "metadata": {},
   "outputs": [],
   "source": [
    "model.add(Convolution2D(32,(3,3),input_shape=(64,64,1),activation='relu'))"
   ]
  },
  {
   "cell_type": "markdown",
   "id": "635cb0c2",
   "metadata": {},
   "source": [
    "# Adding the MaxPooling Layer"
   ]
  },
  {
   "cell_type": "code",
   "execution_count": 15,
   "id": "511b84d0",
   "metadata": {},
   "outputs": [],
   "source": [
    "model.add(MaxPooling2D(pool_size=(2,2)))"
   ]
  },
  {
   "cell_type": "markdown",
   "id": "1194a862",
   "metadata": {},
   "source": [
    "# Adding the Flatten layer"
   ]
  },
  {
   "cell_type": "code",
   "execution_count": 16,
   "id": "27116457",
   "metadata": {},
   "outputs": [],
   "source": [
    "model.add(Flatten())"
   ]
  },
  {
   "cell_type": "markdown",
   "id": "68c8320b",
   "metadata": {},
   "source": [
    "# Adding the Dense Layer"
   ]
  },
  {
   "cell_type": "code",
   "execution_count": 17,
   "id": "e31a0dae",
   "metadata": {},
   "outputs": [],
   "source": [
    "#1st hidden layer\n",
    "model.add(Dense(units=600,activation='relu'))\n",
    "#2nd hidden layer\n",
    "model.add(Dense(units=300,activation='relu'))"
   ]
  },
  {
   "cell_type": "code",
   "execution_count": 18,
   "id": "90577a4c",
   "metadata": {},
   "outputs": [],
   "source": [
    "#output layer\n",
    "model.add(Dense(units=9,activation='softmax'))"
   ]
  },
  {
   "cell_type": "markdown",
   "id": "2bb58672",
   "metadata": {},
   "source": [
    "# Compile the model"
   ]
  },
  {
   "cell_type": "code",
   "execution_count": 19,
   "id": "0c3f9701",
   "metadata": {},
   "outputs": [],
   "source": [
    "model.compile(loss='categorical_crossentropy',optimizer='adam',metrics=['accuracy'])"
   ]
  },
  {
   "cell_type": "markdown",
   "id": "db642537",
   "metadata": {},
   "source": [
    "# Fit the model"
   ]
  },
  {
   "cell_type": "code",
   "execution_count": 20,
   "id": "ec6e111f",
   "metadata": {},
   "outputs": [
    {
     "name": "stdout",
     "output_type": "stream",
     "text": [
      "Epoch 1/10\n"
     ]
    },
    {
     "name": "stderr",
     "output_type": "stream",
     "text": [
      "C:\\Users\\mm\\AppData\\Local\\Temp\\ipykernel_9604\\234118701.py:1: UserWarning: `Model.fit_generator` is deprecated and will be removed in a future version. Please use `Model.fit`, which supports generators.\n",
      "  model.fit_generator(x_train,steps_per_epoch=len(x_train),epochs=10,validation_data=x_test,validation_steps=len(x_test))\n"
     ]
    },
    {
     "name": "stdout",
     "output_type": "stream",
     "text": [
      "493/493 [==============================] - 70s 142ms/step - loss: 0.1822 - accuracy: 0.9419 - val_loss: 0.2892 - val_accuracy: 0.9693\n",
      "Epoch 2/10\n",
      "493/493 [==============================] - 68s 138ms/step - loss: 0.0281 - accuracy: 0.9917 - val_loss: 0.2557 - val_accuracy: 0.9769\n",
      "Epoch 3/10\n",
      "493/493 [==============================] - 69s 140ms/step - loss: 0.0161 - accuracy: 0.9947 - val_loss: 0.2824 - val_accuracy: 0.9729\n",
      "Epoch 4/10\n",
      "493/493 [==============================] - 69s 139ms/step - loss: 0.0160 - accuracy: 0.9942 - val_loss: 0.5160 - val_accuracy: 0.9742\n",
      "Epoch 5/10\n",
      "493/493 [==============================] - 69s 139ms/step - loss: 0.0092 - accuracy: 0.9965 - val_loss: 0.4408 - val_accuracy: 0.9724\n",
      "Epoch 6/10\n",
      "493/493 [==============================] - 71s 143ms/step - loss: 0.0129 - accuracy: 0.9963 - val_loss: 0.4872 - val_accuracy: 0.9622\n",
      "Epoch 7/10\n",
      "493/493 [==============================] - 72s 146ms/step - loss: 0.0052 - accuracy: 0.9984 - val_loss: 0.3941 - val_accuracy: 0.9760\n",
      "Epoch 8/10\n",
      "493/493 [==============================] - 67s 136ms/step - loss: 0.0131 - accuracy: 0.9959 - val_loss: 0.3942 - val_accuracy: 0.9787\n",
      "Epoch 9/10\n",
      "493/493 [==============================] - 66s 135ms/step - loss: 0.0073 - accuracy: 0.9975 - val_loss: 0.3828 - val_accuracy: 0.9778\n",
      "Epoch 10/10\n",
      "493/493 [==============================] - 67s 135ms/step - loss: 0.0096 - accuracy: 0.9969 - val_loss: 0.4459 - val_accuracy: 0.9756\n"
     ]
    },
    {
     "data": {
      "text/plain": [
       "<keras.callbacks.History at 0x2a0359468b0>"
      ]
     },
     "execution_count": 20,
     "metadata": {},
     "output_type": "execute_result"
    }
   ],
   "source": [
    "model.fit_generator(x_train,steps_per_epoch=len(x_train),epochs=10,validation_data=x_test,validation_steps=len(x_test))"
   ]
  },
  {
   "cell_type": "markdown",
   "id": "02fa0948",
   "metadata": {},
   "source": [
    "# Save the model"
   ]
  },
  {
   "cell_type": "code",
   "execution_count": 21,
   "id": "92f68e92",
   "metadata": {},
   "outputs": [],
   "source": [
    "model.save('aslpng2.h5')"
   ]
  },
  {
   "cell_type": "markdown",
   "id": "c5be9e4f",
   "metadata": {},
   "source": [
    "# Import the required libraries and load the model"
   ]
  },
  {
   "cell_type": "code",
   "execution_count": 22,
   "id": "f42b8172",
   "metadata": {},
   "outputs": [],
   "source": [
    "from tensorflow.keras.models import load_model\n",
    "import cv2\n",
    "import numpy as np\n",
    "from tensorflow.keras.preprocessing import image"
   ]
  },
  {
   "cell_type": "code",
   "execution_count": 23,
   "id": "f21a9933",
   "metadata": {},
   "outputs": [],
   "source": [
    "#Load the model\n",
    "model=load_model('aslpng2.h5')"
   ]
  },
  {
   "cell_type": "code",
   "execution_count": 25,
   "id": "0e4de71d",
   "metadata": {},
   "outputs": [],
   "source": [
    "img=image.load_img(r'M:\\software\\AI_TRAINING_IBM\\Projects_workspace\\projectfiles\\Dataset\\test_set\\A\\1.png',target_size=(450,450))"
   ]
  },
  {
   "cell_type": "code",
   "execution_count": 26,
   "id": "ea4d53e8",
   "metadata": {},
   "outputs": [
    {
     "data": {
      "image/png": "[encoded data removed]",
      "text/plain": [
       "<PIL.Image.Image image mode=RGB size=450x450>"
      ]
     },
     "execution_count": 26,
     "metadata": {},
     "output_type": "execute_result"
    }
   ],
   "source": [
    "img"
   ]
  },
  {
   "cell_type": "code",
   "execution_count": null,
   "id": "5b7191af",
   "metadata": {},
   "outputs": [],
   "source": []
  }
 ],
 "metadata": {
  "kernelspec": {
   "display_name": "Python 3 (ipykernel)",
   "language": "python",
   "name": "python3"
  },
  "language_info": {
   "codemirror_mode": {
    "name": "ipython",
    "version": 3
   },
   "file_extension": ".py",
   "mimetype": "text/x-python",
   "name": "python",
   "nbconvert_exporter": "python",
   "pygments_lexer": "ipython3",
   "version": "3.9.12"
  }
 },
 "nbformat": 4,
 "nbformat_minor": 5
}
