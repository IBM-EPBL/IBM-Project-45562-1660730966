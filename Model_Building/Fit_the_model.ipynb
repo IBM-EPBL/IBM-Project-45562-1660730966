{
 "cells": [
  {
   "cell_type": "markdown",
   "id": "89d63d1f",
   "metadata": {},
   "source": [
    "IBM Project Name: Real-Time Communication System Powered by AI for Specially Abled\n",
    "TEAM ID:\n",
    "TEAM Member:M Mohamed Marzjuk"
   ]
  },
  {
   "cell_type": "markdown",
   "id": "b7aecf1c",
   "metadata": {},
   "source": [
    "Model Building:\n",
    "\n",
    "Import The Required Model Building Libraries"
   ]
  },
  {
   "cell_type": "code",
   "execution_count": 1,
   "id": "e191ea9f",
   "metadata": {},
   "outputs": [
    {
     "name": "stderr",
     "output_type": "stream",
     "text": [
      "C:\\Users\\mm\\anaconda3\\lib\\site-packages\\scipy\\__init__.py:146: UserWarning: A NumPy version >=1.16.5 and <1.23.0 is required for this version of SciPy (detected version 1.23.3\n",
      "  warnings.warn(f\"A NumPy version >={np_minversion} and <{np_maxversion}\"\n"
     ]
    }
   ],
   "source": [
    "#import imagedatagenerator\n",
    "from keras.preprocessing.image import ImageDataGenerator"
   ]
  },
  {
   "cell_type": "code",
   "execution_count": 2,
   "id": "62154e63",
   "metadata": {},
   "outputs": [],
   "source": [
    "#training datagen\n",
    "train_datagen=ImageDataGenerator(rescale=1./255,shear_range=0.2,zoom_range=0.2,horizontal_flip=True)"
   ]
  },
  {
   "cell_type": "code",
   "execution_count": 3,
   "id": "4d28cccf",
   "metadata": {},
   "outputs": [],
   "source": [
    "#testing datagen\n",
    "test_datagen=ImageDataGenerator(rescale=1./255)"
   ]
  },
  {
   "cell_type": "markdown",
   "id": "cfb1afa9",
   "metadata": {},
   "source": [
    "IMPORTING tensorflow\n"
   ]
  },
  {
   "cell_type": "code",
   "execution_count": 4,
   "id": "c8bd7b5d",
   "metadata": {},
   "outputs": [],
   "source": [
    "import tensorflow as tf\n",
    "import os"
   ]
  },
  {
   "cell_type": "markdown",
   "id": "ee113b1f",
   "metadata": {},
   "source": [
    "Initialize The Model"
   ]
  },
  {
   "cell_type": "code",
   "execution_count": 5,
   "id": "e35ce653",
   "metadata": {},
   "outputs": [],
   "source": [
    "#create model\n",
    "from keras.models import Sequential\n",
    "from keras.layers import Dense\n",
    "from keras.layers import Convolution2D\n",
    "from keras.layers import MaxPooling2D\n",
    "from keras.layers import Dropout\n",
    "from keras.layers import Flatten \n",
    "from tensorflow.keras.preprocessing.image import ImageDataGenerator"
   ]
  },
  {
   "cell_type": "code",
   "execution_count": 6,
   "id": "57d19801",
   "metadata": {},
   "outputs": [],
   "source": [
    "import numpy as np\n",
    "import matplotlib.pyplot as plt #to view graph in colab itself\n",
    "import IPython.display as display\n",
    "from PIL import Image\n",
    "import pathlib"
   ]
  },
  {
   "cell_type": "markdown",
   "id": "bb447359",
   "metadata": {},
   "source": [
    "Unzipping the dataset"
   ]
  },
  {
   "cell_type": "markdown",
   "id": "d9caedd0",
   "metadata": {},
   "source": [
    "Applying ImageDataGenerator to training set"
   ]
  },
  {
   "cell_type": "code",
   "execution_count": 7,
   "id": "c967e4ae",
   "metadata": {},
   "outputs": [
    {
     "name": "stdout",
     "output_type": "stream",
     "text": [
      "Found 15750 images belonging to 9 classes.\n"
     ]
    }
   ],
   "source": [
    "x_train=train_datagen.flow_from_directory(r'M:\\software\\AI_TRAINING_IBM\\Projects_workspace\\projectfiles\\Dataset\\training_set',target_size=(64,64),batch_size=32,\n",
    "                                          class_mode='categorical',color_mode=\"grayscale\")"
   ]
  },
  {
   "cell_type": "markdown",
   "id": "e6c57889",
   "metadata": {},
   "source": [
    "Applying ImageDataGenerator to test set"
   ]
  },
  {
   "cell_type": "code",
   "execution_count": 8,
   "id": "bb5c1b1d",
   "metadata": {},
   "outputs": [
    {
     "name": "stdout",
     "output_type": "stream",
     "text": [
      "Found 2250 images belonging to 9 classes.\n"
     ]
    }
   ],
   "source": [
    "x_test=test_datagen.flow_from_directory(r'M:\\software\\AI_TRAINING_IBM\\Projects_workspace\\projectfiles\\Dataset\\test_set',target_size=(64,64),batch_size=200,\n",
    "                                          class_mode='categorical',color_mode=\"grayscale\")"
   ]
  },
  {
   "cell_type": "code",
   "execution_count": 9,
   "id": "13157df6",
   "metadata": {},
   "outputs": [],
   "source": [
    "a=len(x_train)\n",
    "b=len(x_test)"
   ]
  },
  {
   "cell_type": "markdown",
   "id": "4771a7d3",
   "metadata": {},
   "source": [
    "Length of training set"
   ]
  },
  {
   "cell_type": "code",
   "execution_count": 10,
   "id": "a2de7819",
   "metadata": {},
   "outputs": [
    {
     "data": {
      "text/plain": [
       "493"
      ]
     },
     "execution_count": 10,
     "metadata": {},
     "output_type": "execute_result"
    }
   ],
   "source": [
    "a"
   ]
  },
  {
   "cell_type": "markdown",
   "id": "c493adf5",
   "metadata": {},
   "source": [
    "Length of test set"
   ]
  },
  {
   "cell_type": "code",
   "execution_count": 11,
   "id": "efb0b806",
   "metadata": {},
   "outputs": [
    {
     "data": {
      "text/plain": [
       "12"
      ]
     },
     "execution_count": 11,
     "metadata": {},
     "output_type": "execute_result"
    }
   ],
   "source": [
    "b"
   ]
  },
  {
   "cell_type": "markdown",
   "id": "a3616383",
   "metadata": {},
   "source": [
    "Add Layers"
   ]
  },
  {
   "cell_type": "code",
   "execution_count": 12,
   "id": "152e6cf3",
   "metadata": {},
   "outputs": [],
   "source": [
    "#create model\n",
    "model=Sequential()"
   ]
  },
  {
   "cell_type": "markdown",
   "id": "b1a831fe",
   "metadata": {},
   "source": [
    "# Adding the convolution layer"
   ]
  },
  {
   "cell_type": "code",
   "execution_count": 13,
   "id": "c180bcf6",
   "metadata": {},
   "outputs": [],
   "source": [
    "model.add(Convolution2D(32,(3,3),input_shape=(64,64,1),activation='relu'))"
   ]
  },
  {
   "cell_type": "markdown",
   "id": "635cb0c2",
   "metadata": {},
   "source": [
    "# Adding the MaxPooling Layer"
   ]
  },
  {
   "cell_type": "code",
   "execution_count": 14,
   "id": "511b84d0",
   "metadata": {},
   "outputs": [],
   "source": [
    "model.add(MaxPooling2D(pool_size=(2,2)))"
   ]
  },
  {
   "cell_type": "markdown",
   "id": "1194a862",
   "metadata": {},
   "source": [
    "# Adding the Flatten layer"
   ]
  },
  {
   "cell_type": "code",
   "execution_count": 15,
   "id": "27116457",
   "metadata": {},
   "outputs": [],
   "source": [
    "model.add(Flatten())"
   ]
  },
  {
   "cell_type": "markdown",
   "id": "68c8320b",
   "metadata": {},
   "source": [
    "# Adding the Dense Layer"
   ]
  },
  {
   "cell_type": "code",
   "execution_count": 16,
   "id": "e31a0dae",
   "metadata": {},
   "outputs": [],
   "source": [
    "#1st hidden layer\n",
    "model.add(Dense(units=600,activation='relu'))\n",
    "#2nd hidden layer\n",
    "model.add(Dense(units=300,activation='relu'))"
   ]
  },
  {
   "cell_type": "code",
   "execution_count": 20,
   "id": "90577a4c",
   "metadata": {},
   "outputs": [],
   "source": [
    "#output layer\n",
    "model.add(Dense(units=9,activation='softmax'))"
   ]
  },
  {
   "cell_type": "markdown",
   "id": "2bb58672",
   "metadata": {},
   "source": [
    "# Compile the model"
   ]
  },
  {
   "cell_type": "code",
   "execution_count": 21,
   "id": "0c3f9701",
   "metadata": {},
   "outputs": [],
   "source": [
    "model.compile(loss='categorical_crossentropy',optimizer='adam',metrics=['accuracy'])"
   ]
  },
  {
   "cell_type": "markdown",
   "id": "db642537",
   "metadata": {},
   "source": [
    "# Fit the model"
   ]
  },
  {
   "cell_type": "code",
   "execution_count": 25,
   "id": "ec6e111f",
   "metadata": {},
   "outputs": [
    {
     "name": "stderr",
     "output_type": "stream",
     "text": [
      "C:\\Users\\mm\\AppData\\Local\\Temp\\ipykernel_2644\\234118701.py:1: UserWarning: `Model.fit_generator` is deprecated and will be removed in a future version. Please use `Model.fit`, which supports generators.\n",
      "  model.fit_generator(x_train,steps_per_epoch=len(x_train),epochs=10,validation_data=x_test,validation_steps=len(x_test))\n"
     ]
    },
    {
     "name": "stdout",
     "output_type": "stream",
     "text": [
      "Epoch 1/10\n",
      "493/493 [==============================] - 127s 256ms/step - loss: 1.7617 - accuracy: 0.4051 - val_loss: 1.5353 - val_accuracy: 0.4436\n",
      "Epoch 2/10\n",
      "493/493 [==============================] - 69s 141ms/step - loss: 1.3952 - accuracy: 0.4427 - val_loss: 1.2758 - val_accuracy: 0.4524\n",
      "Epoch 3/10\n",
      "493/493 [==============================] - 70s 143ms/step - loss: 1.2028 - accuracy: 0.4407 - val_loss: 1.1635 - val_accuracy: 0.4307\n",
      "Epoch 4/10\n",
      "493/493 [==============================] - 72s 146ms/step - loss: 1.0991 - accuracy: 0.4397 - val_loss: 1.0632 - val_accuracy: 0.4404\n",
      "Epoch 5/10\n",
      "493/493 [==============================] - 67s 136ms/step - loss: 1.0417 - accuracy: 0.4400 - val_loss: 1.0045 - val_accuracy: 0.4471\n",
      "Epoch 6/10\n",
      "493/493 [==============================] - 73s 148ms/step - loss: 0.9294 - accuracy: 0.5328 - val_loss: 0.8461 - val_accuracy: 0.5547\n",
      "Epoch 7/10\n",
      "493/493 [==============================] - 66s 133ms/step - loss: 0.8225 - accuracy: 0.5485 - val_loss: 0.8388 - val_accuracy: 0.5564\n",
      "Epoch 8/10\n",
      "493/493 [==============================] - 65s 132ms/step - loss: 0.7798 - accuracy: 0.5489 - val_loss: 0.7555 - val_accuracy: 0.5564\n",
      "Epoch 9/10\n",
      "493/493 [==============================] - 65s 132ms/step - loss: 0.7555 - accuracy: 0.5500 - val_loss: 0.7355 - val_accuracy: 0.5551\n",
      "Epoch 10/10\n",
      "493/493 [==============================] - 66s 134ms/step - loss: 0.7333 - accuracy: 0.5561 - val_loss: 0.7197 - val_accuracy: 0.5822\n"
     ]
    },
    {
     "data": {
      "text/plain": [
       "<keras.callbacks.History at 0x1ce39f07490>"
      ]
     },
     "execution_count": 25,
     "metadata": {},
     "output_type": "execute_result"
    }
   ],
   "source": [
    "model.fit_generator(x_train,steps_per_epoch=len(x_train),epochs=10,validation_data=x_test,validation_steps=len(x_test))"
   ]
  },
  {
   "cell_type": "markdown",
   "id": "02fa0948",
   "metadata": {},
   "source": [
    "# Save the model"
   ]
  },
  {
   "cell_type": "code",
   "execution_count": 27,
   "id": "92f68e92",
   "metadata": {},
   "outputs": [],
   "source": [
    "model.save('aslpng2.h5')"
   ]
  }
 ],
 "metadata": {
  "kernelspec": {
   "display_name": "Python 3 (ipykernel)",
   "language": "python",
   "name": "python3"
  },
  "language_info": {
   "codemirror_mode": {
    "name": "ipython",
    "version": 3
   },
   "file_extension": ".py",
   "mimetype": "text/x-python",
   "name": "python",
   "nbconvert_exporter": "python",
   "pygments_lexer": "ipython3",
   "version": "3.9.12"
  }
 },
 "nbformat": 4,
 "nbformat_minor": 5
}
